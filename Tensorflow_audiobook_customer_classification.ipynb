{
 "cells": [
  {
   "cell_type": "markdown",
   "metadata": {},
   "source": [
    "## Problem\n",
    "You are given data from an Audiobook app. Logically, it relates only to the audio versions of books. Each customer in the database has made a purchase at least once, that's why he/she is in the database. We want to create a machine learning algorithm based on our available data that can predict if a customer will buy again from the Audiobook company.\n",
    "\n",
    "The main idea is that if a customer has a low probability of coming back, there is no reason to spend any money on advertizing to him/her. If we can focus our efforts ONLY on customers that are likely to convert again, we can make great savings. Moreover, this model can identify the most important metrics for a customer to come back again. Identifying new customers creates value and growth opportunities.\n",
    "\n",
    "You have a .csv summarizing the data. There are several variables: Customer ID, Book length in mins_avg (average of all purchases), Book length in minutes_sum (sum of all purchases), Price Paid_avg (average of all purchases), Price paid_sum (sum of all purchases), Review (a Boolean variable), Review (out of 10), Total minutes listened, Completion (from 0 to 1), Support requests (number), and Last visited minus purchase date (in days).\n",
    "\n",
    "So these are the inputs (excluding customer ID, as it is completely arbitrary. It's more like a name, than a number).\n",
    "\n",
    "The targets are a Boolean variable (so 0, or 1). We are taking a period of 2 years in our inputs, and the next 6 months as targets. So, in fact, we are predicting if: based on the last 2 years of activity and engagement, a customer will convert in the next 6 months. 6 months sounds like a reasonable time. If they don't convert after 6 months, chances are they've gone to a competitor or didn't like the Audiobook way of digesting information.\n",
    "\n",
    "The task is simple: create a machine learning algorithm, which is able to predict if a customer will buy again.\n",
    "\n",
    "This is a classification problem with two classes: won't buy and will buy, represented by 0s and 1s."
   ]
  },
  {
   "cell_type": "code",
   "execution_count": 1,
   "metadata": {},
   "outputs": [],
   "source": [
    "import numpy as np\n",
    "import pandas as pd"
   ]
  },
  {
   "cell_type": "markdown",
   "metadata": {},
   "source": [
    "## Input data"
   ]
  },
  {
   "cell_type": "code",
   "execution_count": 2,
   "metadata": {},
   "outputs": [],
   "source": [
    "raw_data=np.loadtxt('Audiobooks_data.csv',delimiter=',')"
   ]
  },
  {
   "cell_type": "markdown",
   "metadata": {},
   "source": [
    "### Balancing the data"
   ]
  },
  {
   "cell_type": "code",
   "execution_count": 3,
   "metadata": {},
   "outputs": [],
   "source": [
    "raw_input=raw_data[:,1:11]\n",
    "raw_target=raw_data[:,11:]\n",
    "\n",
    "num_one_target=int(np.sum(raw_target))\n",
    "\n",
    "zero_target_counts=0\n",
    "num_index=[]\n",
    "\n",
    "for i in range(raw_target.shape[0]):\n",
    "    if raw_target[i]==0:\n",
    "        zero_target_counts +=1\n",
    "        if zero_target_counts>num_one_target:\n",
    "            num_index.append(i)\n",
    "            \n",
    "raw_balanced_input=np.delete(raw_input,num_index,axis=0)\n",
    "raw_balanced_target=np.delete(raw_target,num_index,axis=0)"
   ]
  },
  {
   "cell_type": "markdown",
   "metadata": {},
   "source": [
    "### Standatdizing the data"
   ]
  },
  {
   "cell_type": "code",
   "execution_count": 4,
   "metadata": {},
   "outputs": [],
   "source": [
    "from sklearn import preprocessing\n",
    "raw_standard_data=preprocessing.scale(raw_balanced_input)\n"
   ]
  },
  {
   "cell_type": "markdown",
   "metadata": {},
   "source": [
    "### Shuffling the data"
   ]
  },
  {
   "cell_type": "code",
   "execution_count": 49,
   "metadata": {},
   "outputs": [],
   "source": [
    "shuffle_indices=np.arange(raw_balanced_input.shape[0])\n",
    "np.random.shuffle(shuffle_indices)\n",
    "\n",
    "raw_shuffled_data=raw_balanced_input[shuffle_indices]\n",
    "raw_shuffled_target=raw_balanced_target[shuffle_indices]"
   ]
  },
  {
   "cell_type": "markdown",
   "metadata": {},
   "source": [
    "### Making train, validation, test set"
   ]
  },
  {
   "cell_type": "code",
   "execution_count": 56,
   "metadata": {},
   "outputs": [],
   "source": [
    "samples_count=raw_shuffled_data.shape[0]\n",
    "\n",
    "train_samples_count=int(0.8*samples_count)\n",
    "validation_samples_count=int(0.1*samples_count)\n",
    "test_samples_count=samples_count-train_samples_count-validation_samples_count\n",
    "\n",
    "train_input=raw_shuffled_data[:train_samples_count].astype(np.float)\n",
    "train_output=raw_shuffled_target[:train_samples_count].astype(np.int)\n",
    "\n",
    "validation_input=raw_shuffled_data[train_samples_count:validation_samples_count+train_samples_count].astype(np.float)\n",
    "validation_output=raw_shuffled_target[train_samples_count:validation_samples_count+train_samples_count].astype(np.int)\n",
    "\n",
    "test_input=raw_shuffled_data[train_samples_count+validation_samples_count:].astype(np.float)\n",
    "test_output=raw_shuffled_target[train_samples_count+validation_samples_count:].astype(np.int)"
   ]
  },
  {
   "cell_type": "markdown",
   "metadata": {},
   "source": [
    "### Build the model"
   ]
  },
  {
   "cell_type": "code",
   "execution_count": 57,
   "metadata": {},
   "outputs": [],
   "source": [
    "import tensorflow as tf\n",
    "\n",
    "input_size=10\n",
    "output_size=2\n",
    "hidden_layer_size=50\n",
    "model=tf.keras.models.Sequential([\n",
    "                                tf.keras.layers.Dense(hidden_layer_size,activation='relu'),\n",
    "                                tf.keras.layers.Dense(hidden_layer_size,activation='relu'),\n",
    "                                tf.keras.layers.Dense(output_size,activation='softmax')\n",
    "])"
   ]
  },
  {
   "cell_type": "markdown",
   "metadata": {},
   "source": [
    "### Compiling"
   ]
  },
  {
   "cell_type": "code",
   "execution_count": 58,
   "metadata": {},
   "outputs": [],
   "source": [
    "model.compile(optimizer='adam',loss='sparse_categorical_crossentropy',metrics=['accuracy'])"
   ]
  },
  {
   "cell_type": "markdown",
   "metadata": {},
   "source": [
    "### Fitting the model"
   ]
  },
  {
   "cell_type": "code",
   "execution_count": 59,
   "metadata": {},
   "outputs": [
    {
     "name": "stdout",
     "output_type": "stream",
     "text": [
      "Train on 3579 samples, validate on 447 samples\n",
      "Epoch 1/100\n",
      "3579/3579 - 1s - loss: 51.7352 - accuracy: 0.7388 - val_loss: 15.2920 - val_accuracy: 0.8501\n",
      "Epoch 2/100\n",
      "3579/3579 - 0s - loss: 6.0405 - accuracy: 0.8086 - val_loss: 1.0377 - val_accuracy: 0.8054\n",
      "Epoch 3/100\n",
      "3579/3579 - 0s - loss: 0.9832 - accuracy: 0.7885 - val_loss: 0.5718 - val_accuracy: 0.8389\n",
      "Epoch 4/100\n",
      "3579/3579 - 0s - loss: 0.9878 - accuracy: 0.7594 - val_loss: 1.4204 - val_accuracy: 0.6622\n",
      "Epoch 5/100\n",
      "3579/3579 - 0s - loss: 1.2033 - accuracy: 0.7812 - val_loss: 0.7336 - val_accuracy: 0.8591\n"
     ]
    },
    {
     "data": {
      "text/plain": [
       "<tensorflow.python.keras.callbacks.History at 0x1c88211b048>"
      ]
     },
     "execution_count": 59,
     "metadata": {},
     "output_type": "execute_result"
    }
   ],
   "source": [
    "BATCH_SIZE=100\n",
    "NUM_EPOCHS=100\n",
    "\n",
    "earlystopping=tf.keras.callbacks.EarlyStopping(patience=2)\n",
    "\n",
    "model.fit(train_input,train_output,epochs=NUM_EPOCHS,callbacks=[earlystopping],batch_size=BATCH_SIZE,\n",
    "          validation_data=(validation_input,validation_output),verbose=2)"
   ]
  },
  {
   "cell_type": "markdown",
   "metadata": {},
   "source": [
    "### Testing the model"
   ]
  },
  {
   "cell_type": "code",
   "execution_count": 60,
   "metadata": {},
   "outputs": [
    {
     "name": "stdout",
     "output_type": "stream",
     "text": [
      "448/448 [==============================] - 0s 335us/sample - loss: 0.9680 - accuracy: 0.8438\n"
     ]
    }
   ],
   "source": [
    "test_loss,test_accuracy=model.evaluate(test_input,test_output)"
   ]
  },
  {
   "cell_type": "code",
   "execution_count": 61,
   "metadata": {},
   "outputs": [
    {
     "name": "stdout",
     "output_type": "stream",
     "text": [
      "test loss: 0.97 test accuracy: 84.38\n"
     ]
    }
   ],
   "source": [
    "print('test loss: %.2f test accuracy: %.2f'%(test_loss,test_accuracy*100))"
   ]
  },
  {
   "cell_type": "code",
   "execution_count": null,
   "metadata": {},
   "outputs": [],
   "source": []
  }
 ],
 "metadata": {
  "kernelspec": {
   "display_name": "Python 3",
   "language": "python",
   "name": "python3"
  },
  "language_info": {
   "codemirror_mode": {
    "name": "ipython",
    "version": 3
   },
   "file_extension": ".py",
   "mimetype": "text/x-python",
   "name": "python",
   "nbconvert_exporter": "python",
   "pygments_lexer": "ipython3",
   "version": "3.7.4"
  }
 },
 "nbformat": 4,
 "nbformat_minor": 2
}
